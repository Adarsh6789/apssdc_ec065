{
 "cells": [
  {
   "cell_type": "code",
   "execution_count": 1,
   "metadata": {},
   "outputs": [],
   "source": [
    "#task\n",
    "l=['apssdc.123@gmail.com','apssdcrvr@apssdc.com','prasannaraj.m@apssdc.com','raj#$%^&@gmail.com','rvr123.123@gmail.com']\n",
    "pattern='^[a-z]\\S'"
   ]
  },
  {
   "cell_type": "markdown",
   "metadata": {},
   "source": [
    "### file handling techniques using python\n",
    "  - what is file?\n",
    "     - collection of records\n",
    "     - store the data\n",
    "#### file operations\n",
    " - open()\n",
    "      - open('filename','mode')\n",
    " - read()\n",
    "      - read the data into a file\n",
    " - write()\n",
    "     - to write a data into a file\n",
    " - append()\n",
    "     - to add the data into a file\n",
    " - close\n",
    "     - to close the file\n",
    "\n",
    "#### Modes:\n",
    " - read mode-r\n",
    " - write mode-w\n",
    " - append mode-a"
   ]
  },
  {
   "cell_type": "code",
   "execution_count": 29,
   "metadata": {},
   "outputs": [
    {
     "data": {
      "text/plain": [
       "<_io.TextIOWrapper name='C:\\\\Users\\\\APSSDC-RVRJC\\\\Desktop\\\\apssdc python\\\\file.txt.txt' mode='r' encoding='cp1252'>"
      ]
     },
     "execution_count": 29,
     "metadata": {},
     "output_type": "execute_result"
    }
   ],
   "source": [
    "#open a file\n",
    "\n",
    "f = open('C:\\\\Users\\\\APSSDC-RVRJC\\\\Desktop\\\\apssdc python\\\\file.txt.txt','r')\n",
    "f"
   ]
  },
  {
   "cell_type": "code",
   "execution_count": 28,
   "metadata": {},
   "outputs": [
    {
     "name": "stdout",
     "output_type": "stream",
     "text": [
      "brahmaiah100100\n"
     ]
    }
   ],
   "source": [
    "# read the data\n",
    "f = open('abc.py','r')\n",
    "f1= f.read()\n",
    "print(f1)"
   ]
  },
  {
   "cell_type": "code",
   "execution_count": 24,
   "metadata": {},
   "outputs": [
    {
     "name": "stdout",
     "output_type": "stream",
     "text": [
      "9\n"
     ]
    }
   ],
   "source": [
    "# write\n",
    "f = open('abc.py','w')\n",
    "data = \"brahmaiah\"\n",
    "f1=f.write(data)\n",
    "f.close()\n",
    "print(f1)"
   ]
  },
  {
   "cell_type": "code",
   "execution_count": 19,
   "metadata": {},
   "outputs": [
    {
     "data": {
      "text/plain": [
       "'brahmaiah\\n'"
      ]
     },
     "execution_count": 19,
     "metadata": {},
     "output_type": "execute_result"
    }
   ],
   "source": [
    "f = open('C:/Users/APSSDC-RVRJC/Desktop/github files/abc.py')\n",
    "f2=f.read()\n",
    "f2"
   ]
  },
  {
   "cell_type": "code",
   "execution_count": 26,
   "metadata": {},
   "outputs": [
    {
     "name": "stdout",
     "output_type": "stream",
     "text": [
      "<_io.TextIOWrapper name='C:/Users/APSSDC-RVRJC/Desktop/github files/abc.py' mode='a' encoding='cp1252'>\n"
     ]
    }
   ],
   "source": [
    "#append\n",
    "f = open('C:/Users/APSSDC-RVRJC/Desktop/github files/abc.py','a')\n",
    "f3=f.write('100')\n",
    "f.close()\n",
    "print(f)"
   ]
  },
  {
   "cell_type": "code",
   "execution_count": 34,
   "metadata": {},
   "outputs": [
    {
     "data": {
      "text/plain": [
       "'Name : Adarsh kumar\\nRoll No. : 65\\nphone : 9756841238\\nbranch : ece\\nemailid : adarshgummudu@gmail.com'"
      ]
     },
     "execution_count": 34,
     "metadata": {},
     "output_type": "execute_result"
    }
   ],
   "source": [
    "f = open('javademo.java')\n",
    "f1 = f.read()\n",
    "f1"
   ]
  },
  {
   "cell_type": "code",
   "execution_count": 38,
   "metadata": {},
   "outputs": [
    {
     "data": {
      "text/plain": [
       "11"
      ]
     },
     "execution_count": 38,
     "metadata": {},
     "output_type": "execute_result"
    }
   ],
   "source": [
    "f = open('javademo.java','a')\n",
    "data = 'college:rvr'\n",
    "f2 = f.write(data)\n",
    "f.close()\n",
    "f2"
   ]
  },
  {
   "cell_type": "code",
   "execution_count": 39,
   "metadata": {},
   "outputs": [
    {
     "name": "stdout",
     "output_type": "stream",
     "text": [
      "append data is success\n"
     ]
    }
   ],
   "source": [
    "# without close a file\n",
    "with open('javademo.java','a') as adarsh:\n",
    "    data = 'APSSDC'\n",
    "    adarsh.write(data)\n",
    "    print('append data is success')"
   ]
  },
  {
   "cell_type": "code",
   "execution_count": 44,
   "metadata": {},
   "outputs": [
    {
     "name": "stdout",
     "output_type": "stream",
     "text": [
      "Collecting PYpdf2\n",
      "  Downloading https://files.pythonhosted.org/packages/b4/01/68fcc0d43daf4c6bdbc6b33cc3f77bda531c86b174cac56ef0ffdb96faab/PyPDF2-1.26.0.tar.gz (77kB)\n",
      "Building wheels for collected packages: PYpdf2\n",
      "  Building wheel for PYpdf2 (setup.py): started\n",
      "  Building wheel for PYpdf2 (setup.py): finished with status 'done'\n",
      "  Stored in directory: C:\\Users\\APSSDC-RVRJC\\AppData\\Local\\pip\\Cache\\wheels\\53\\84\\19\\35bc977c8bf5f0c23a8a011aa958acd4da4bbd7a229315c1b7\n",
      "Successfully built PYpdf2\n",
      "Installing collected packages: PYpdf2\n",
      "Successfully installed PYpdf2-1.26.0\n",
      "Note: you may need to restart the kernel to use updated packages.\n"
     ]
    }
   ],
   "source": [
    "pip install PYpdf2"
   ]
  },
  {
   "cell_type": "code",
   "execution_count": null,
   "metadata": {},
   "outputs": [],
   "source": []
  }
 ],
 "metadata": {
  "kernelspec": {
   "display_name": "Python 3",
   "language": "python",
   "name": "python3"
  },
  "language_info": {
   "codemirror_mode": {
    "name": "ipython",
    "version": 3
   },
   "file_extension": ".py",
   "mimetype": "text/x-python",
   "name": "python",
   "nbconvert_exporter": "python",
   "pygments_lexer": "ipython3",
   "version": "3.7.3"
  }
 },
 "nbformat": 4,
 "nbformat_minor": 2
}
